{
 "cells": [
  {
   "cell_type": "code",
   "execution_count": 1,
   "metadata": {},
   "outputs": [],
   "source": [
    "import torch\n",
    "import torch.nn as nn\n",
    "import torch.optim as optim\n",
    "import numpy as np\n",
    "import csv\n",
    "import pandas as pd\n",
    "from sklearn.model_selection import train_test_split"
   ]
  },
  {
   "cell_type": "markdown",
   "metadata": {},
   "source": [
    "Take data file and convert class names to class numbers "
   ]
  },
  {
   "cell_type": "code",
   "execution_count": 2,
   "metadata": {},
   "outputs": [
    {
     "name": "stdout",
     "output_type": "stream",
     "text": [
      "{'Air Conditioners': 0, 'All Appliances': 1, 'All Car & Motorbike Products': 2, 'All Electronics': 3, 'All Exercise & Fitness': 4, 'All Grocery & Gourmet Foods': 5, 'All Home & Kitchen': 6, 'All Pet Supplies': 7, 'All Sports, Fitness & Outdoors': 8, 'Amazon Fashion': 9, 'Baby Bath, Skin & Grooming': 10, 'Baby Fashion': 11, 'Baby Products': 12, 'Backpacks': 13, 'Badminton': 14, 'Bags & Luggage': 15, 'Ballerinas': 16, 'Beauty & Grooming': 17, 'Bedroom Linen': 18, 'Camera Accessories': 19, 'Cameras': 20, 'Camping & Hiking': 21, 'Car & Bike Care': 22, 'Car Accessories': 23, 'Car Electronics': 24, 'Car Parts': 25, 'Cardio Equipment': 26, 'Casual Shoes': 27, 'Clothing': 28, 'Coffee, Tea & Beverages': 29, 'Cricket': 30, 'Cycling': 31, 'Diapers': 32, 'Diet & Nutrition': 33, 'Dog supplies': 34, 'Ethnic Wear': 35, 'Fashion & Silver Jewellery': 36, 'Fashion Sales & Deals': 37, 'Fashion Sandals': 38, 'Fitness Accessories': 39, 'Football': 40, 'Formal Shoes': 41, 'Furniture': 42, 'Garden & Outdoors': 43, 'Gold & Diamond Jewellery': 44, 'Handbags & Clutches': 45, 'Headphones': 46, 'Health & Personal Care': 47, 'Heating & Cooling Appliances': 48, 'Home Audio & Theater': 49, 'Home Décor': 50, 'Home Entertainment Systems': 51, 'Home Furnishing': 52, 'Home Improvement': 53, 'Home Storage': 54, 'Household Supplies': 55, 'Indoor Lighting': 56, 'Industrial & Scientific Supplies': 57, 'Innerwear': 58, 'International Toy Store': 59, 'Janitorial & Sanitation Supplies': 60, 'Jeans': 61, 'Jewellery': 62, \"Kids' Clothing\": 63, \"Kids' Fashion\": 64, \"Kids' Shoes\": 65, \"Kids' Watches\": 66, 'Kitchen & Dining': 67, 'Kitchen & Home Appliances': 68, 'Kitchen Storage & Containers': 69, 'Lab & Scientific': 70, 'Lingerie & Nightwear': 71, 'Luxury Beauty': 72, 'Make-up': 73, \"Men's Fashion\": 74, 'Motorbike Accessories & Parts': 75, 'Musical Instruments & Professional Audio': 76, 'Nursing & Feeding': 77, 'Personal Care Appliances': 78, 'Refrigerators': 79, 'Refurbished & Open Box': 80, 'Rucksacks': 81, 'Running': 82, 'School Bags': 83, 'Security Cameras': 84, 'Sewing & Craft Supplies': 85, 'Shirts': 86, 'Shoes': 87, 'Snack Foods': 88, 'Speakers': 89, 'Sports Shoes': 90, 'Sportswear': 91, 'STEM Toys Store': 92, 'Strength Training': 93, 'Strollers & Prams': 94, 'Suitcases & Trolley Bags': 95, 'Sunglasses': 96, 'T-shirts & Polos': 97, 'Televisions': 98, 'Test, Measure & Inspect': 99, 'The Designer Boutique': 100, 'Toys & Games': 101, 'Toys Gifting Store': 102, 'Travel Accessories': 103, 'Travel Duffles': 104, 'Value Bazaar': 105, 'Wallets': 106, 'Washing Machines': 107, 'Watches': 108, 'Western Wear': 109, \"Women's Fashion\": 110, 'Yoga': 111}\n"
     ]
    }
   ],
   "source": [
    "df = pd.read_csv('data/Amazon-Products.csv')\n",
    "\n",
    "class_labels = df['sub_category']\n",
    "\n",
    "unique_classes = class_labels.unique()\n",
    "\n",
    "# Map class labels to numbers\n",
    "class_to_number = {class_label: idx for idx, class_label in enumerate(unique_classes)}\n",
    "\n",
    "# Replace class labels with numbers\n",
    "df['class_numbers'] = df['sub_category'].map(class_to_number)\n",
    "\n",
    "# Save the modified dataframe to a new CSV file\n",
    "df.to_csv('data.csv', index=False)\n",
    "\n",
    "print(class_to_number)\n"
   ]
  },
  {
   "cell_type": "markdown",
   "metadata": {},
   "source": [
    "Read converted data file and store text and classes in arrays"
   ]
  },
  {
   "cell_type": "code",
   "execution_count": 3,
   "metadata": {},
   "outputs": [
    {
     "name": "stdout",
     "output_type": "stream",
     "text": [
      "Products: 551585\n",
      "551585\n",
      "551585\n"
     ]
    }
   ],
   "source": [
    "def read_column_from_csv(csv_file, column_number):\n",
    "    with open(csv_file, mode='r', encoding='utf-8') as file:\n",
    "        csv_reader = csv.reader(file)\n",
    "        next(csv_reader)  # Skip the header row\n",
    "        for row in csv_reader:\n",
    "            if len(row) > column_number:\n",
    "                yield row[column_number]\n",
    "\n",
    "csv_file = \"data.csv\"\n",
    "\n",
    "train_labels = []\n",
    "train_texts = []\n",
    "count = 0\n",
    "\n",
    "for value in read_column_from_csv(csv_file, 10):\n",
    "    train_labels.append(int(value))\n",
    "    count += 1\n",
    "\n",
    "for value in read_column_from_csv(csv_file, 1):\n",
    "    train_texts.append(value)\n",
    "\n",
    "number = len(train_labels)\n",
    "\n",
    "print(f\"Products: {number}\")\n",
    "print(len(train_texts))\n",
    "print(len(train_labels))"
   ]
  },
  {
   "cell_type": "markdown",
   "metadata": {},
   "source": [
    "Test/Train Split"
   ]
  },
  {
   "cell_type": "code",
   "execution_count": 4,
   "metadata": {},
   "outputs": [
    {
     "name": "stdout",
     "output_type": "stream",
     "text": [
      "Training set size: 441268\n",
      "Testing set size: 110317\n"
     ]
    }
   ],
   "source": [
    "from sklearn.model_selection import train_test_split\n",
    "\n",
    "# Split the data into training and testing sets\n",
    "train_texts, validation_texts, train_labels, validation_labels = train_test_split(\n",
    "    train_texts, train_labels, test_size=0.2, random_state=42)\n",
    "\n",
    "# You can check the sizes of the sets\n",
    "print(\"Training set size:\", len(train_texts))\n",
    "print(\"Testing set size:\", len(validation_texts))"
   ]
  },
  {
   "cell_type": "markdown",
   "metadata": {},
   "source": [
    "Train the model and save it"
   ]
  },
  {
   "cell_type": "code",
   "execution_count": 7,
   "metadata": {},
   "outputs": [
    {
     "name": "stderr",
     "output_type": "stream",
     "text": [
      "Some weights of BertForSequenceClassification were not initialized from the model checkpoint at bert-base-uncased and are newly initialized: ['classifier.bias', 'classifier.weight']\n",
      "You should probably TRAIN this model on a down-stream task to be able to use it for predictions and inference.\n",
      "C:\\Users\\Dylan Kangas\\AppData\\Local\\Packages\\PythonSoftwareFoundation.Python.3.8_qbz5n2kfra8p0\\LocalCache\\local-packages\\Python38\\site-packages\\transformers\\optimization.py:457: FutureWarning: This implementation of AdamW is deprecated and will be removed in a future version. Use the PyTorch implementation torch.optim.AdamW instead, or set `no_deprecation_warning=True` to disable this warning\n",
      "  warnings.warn(\n"
     ]
    },
    {
     "name": "stdout",
     "output_type": "stream",
     "text": [
      "Using batch size: 64\n",
      "Epoch 1/15\n"
     ]
    },
    {
     "name": "stderr",
     "output_type": "stream",
     "text": [
      "                                                                             \r"
     ]
    },
    {
     "name": "stdout",
     "output_type": "stream",
     "text": [
      "Epoch 1/15, Avg. Loss: 1.2511\n",
      "Epoch 2/15\n"
     ]
    },
    {
     "name": "stderr",
     "output_type": "stream",
     "text": [
      "                                                                             \r"
     ]
    },
    {
     "name": "stdout",
     "output_type": "stream",
     "text": [
      "Epoch 2/15, Avg. Loss: 0.7803\n",
      "Epoch 3/15\n"
     ]
    },
    {
     "name": "stderr",
     "output_type": "stream",
     "text": [
      "                                                                              \r"
     ]
    },
    {
     "name": "stdout",
     "output_type": "stream",
     "text": [
      "Epoch 3/15, Avg. Loss: 0.6903\n",
      "Epoch 4/15\n"
     ]
    },
    {
     "name": "stderr",
     "output_type": "stream",
     "text": [
      "                                                                              \r"
     ]
    },
    {
     "name": "stdout",
     "output_type": "stream",
     "text": [
      "Epoch 4/15, Avg. Loss: 0.6345\n",
      "Epoch 5/15\n"
     ]
    },
    {
     "name": "stderr",
     "output_type": "stream",
     "text": [
      "                                                                              \r"
     ]
    },
    {
     "name": "stdout",
     "output_type": "stream",
     "text": [
      "Epoch 5/15, Avg. Loss: 0.5916\n",
      "Epoch 6/15\n"
     ]
    },
    {
     "name": "stderr",
     "output_type": "stream",
     "text": [
      "                                                                              \r"
     ]
    },
    {
     "name": "stdout",
     "output_type": "stream",
     "text": [
      "Epoch 6/15, Avg. Loss: 0.5553\n",
      "Epoch 7/15\n"
     ]
    },
    {
     "name": "stderr",
     "output_type": "stream",
     "text": [
      "                                                                              \r"
     ]
    },
    {
     "name": "stdout",
     "output_type": "stream",
     "text": [
      "Epoch 7/15, Avg. Loss: 0.5247\n",
      "Epoch 8/15\n"
     ]
    },
    {
     "name": "stderr",
     "output_type": "stream",
     "text": [
      "                                                                              \r"
     ]
    },
    {
     "name": "stdout",
     "output_type": "stream",
     "text": [
      "Epoch 8/15, Avg. Loss: 0.4971\n",
      "Epoch 9/15\n"
     ]
    },
    {
     "name": "stderr",
     "output_type": "stream",
     "text": [
      "                                                                              \r"
     ]
    },
    {
     "name": "stdout",
     "output_type": "stream",
     "text": [
      "Epoch 9/15, Avg. Loss: 0.4725\n",
      "Epoch 10/15\n"
     ]
    },
    {
     "name": "stderr",
     "output_type": "stream",
     "text": [
      "                                                                               \r"
     ]
    },
    {
     "name": "stdout",
     "output_type": "stream",
     "text": [
      "Epoch 10/15, Avg. Loss: 0.4495\n",
      "Epoch 11/15\n"
     ]
    },
    {
     "name": "stderr",
     "output_type": "stream",
     "text": [
      "                                                                               \r"
     ]
    },
    {
     "name": "stdout",
     "output_type": "stream",
     "text": [
      "Epoch 11/15, Avg. Loss: 0.4295\n",
      "Epoch 12/15\n"
     ]
    },
    {
     "name": "stderr",
     "output_type": "stream",
     "text": [
      "                                                                               \r"
     ]
    },
    {
     "name": "stdout",
     "output_type": "stream",
     "text": [
      "Epoch 12/15, Avg. Loss: 0.4126\n",
      "Epoch 13/15\n"
     ]
    },
    {
     "name": "stderr",
     "output_type": "stream",
     "text": [
      "                                                                               \r"
     ]
    },
    {
     "name": "stdout",
     "output_type": "stream",
     "text": [
      "Epoch 13/15, Avg. Loss: 0.3964\n",
      "Epoch 14/15\n"
     ]
    },
    {
     "name": "stderr",
     "output_type": "stream",
     "text": [
      "                                                                               \r"
     ]
    },
    {
     "name": "stdout",
     "output_type": "stream",
     "text": [
      "Epoch 14/15, Avg. Loss: 0.3824\n",
      "Epoch 15/15\n"
     ]
    },
    {
     "name": "stderr",
     "output_type": "stream",
     "text": [
      "                                                                               \r"
     ]
    },
    {
     "name": "stdout",
     "output_type": "stream",
     "text": [
      "Epoch 15/15, Avg. Loss: 0.3692\n"
     ]
    },
    {
     "data": {
      "image/png": "[encoded data removed]",
      "text/plain": [
       "<Figure size 1000x600 with 1 Axes>"
      ]
     },
     "metadata": {},
     "output_type": "display_data"
    }
   ],
   "source": [
    "import torch\n",
    "from torch.utils.data import DataLoader, Dataset\n",
    "from transformers import BertTokenizer, BertForSequenceClassification, AdamW\n",
    "from sklearn.metrics import accuracy_score\n",
    "from tqdm import tqdm\n",
    "import matplotlib.pyplot as plt\n",
    "\n",
    "num_epochs = 15\n",
    "max_length = 128\n",
    "initial_batch_size = 64\n",
    "\n",
    "# Load the BERT tokenizer\n",
    "tokenizer = BertTokenizer.from_pretrained('bert-base-uncased')\n",
    "\n",
    "# Load the pre-trained BERT model and move it to the GPU\n",
    "device = torch.device(\"cuda\" if torch.cuda.is_available() else \"cpu\")\n",
    "model = BertForSequenceClassification.from_pretrained('bert-base-uncased', num_labels=112).to(device)\n",
    "\n",
    "# Define your dataset class\n",
    "class MyDataset(Dataset):\n",
    "    def __init__(self, texts, labels, tokenizer, max_length):\n",
    "        self.texts = texts\n",
    "        self.labels = labels\n",
    "        self.tokenizer = tokenizer\n",
    "        self.max_length = max_length\n",
    "\n",
    "    def __len__(self):\n",
    "        return len(self.texts)\n",
    "\n",
    "    def __getitem__(self, idx):\n",
    "        text = str(self.texts[idx])\n",
    "        label = self.labels[idx]\n",
    "\n",
    "        encoding = self.tokenizer.encode_plus(\n",
    "            text,\n",
    "            add_special_tokens=True,\n",
    "            max_length=self.max_length,\n",
    "            return_token_type_ids=False,\n",
    "            padding='max_length',\n",
    "            return_attention_mask=True,\n",
    "            return_tensors='pt',\n",
    "            truncation=True\n",
    "        )\n",
    "\n",
    "        return {\n",
    "            'input_ids': encoding['input_ids'].flatten(),\n",
    "            'attention_mask': encoding['attention_mask'].flatten(),\n",
    "            'label': torch.tensor(label, dtype=torch.long)\n",
    "        }\n",
    "\n",
    "\n",
    "# Determine a suitable batch size\n",
    "current_batch_size = initial_batch_size\n",
    "while True:\n",
    "    try:\n",
    "        train_dataset = MyDataset(train_texts, train_labels, tokenizer, max_length)\n",
    "        train_dataloader = DataLoader(train_dataset, batch_size=current_batch_size, shuffle=True)\n",
    "        break\n",
    "    except Exception as e:\n",
    "        print(f\"Batch size {current_batch_size} failed with error: {e}\")\n",
    "        current_batch_size //= 2\n",
    "        print(f\"Trying batch size {current_batch_size}\")\n",
    "\n",
    "print(f\"Using batch size: {current_batch_size}\")\n",
    "\n",
    "# Define optimizer\n",
    "optimizer = AdamW(model.parameters(), lr=1e-5)\n",
    "\n",
    "# Training loop with progress bars and loss collection\n",
    "model.train()\n",
    "losses = []\n",
    "for epoch in range(num_epochs):\n",
    "    print(f\"Epoch {epoch+1}/{num_epochs}\")\n",
    "    epoch_loss = 0.0\n",
    "    progress_bar = tqdm(train_dataloader, desc=f'Epoch {epoch+1}/{num_epochs}', leave=False)\n",
    "    \n",
    "    for batch in progress_bar:\n",
    "        input_ids = batch['input_ids'].to(device)\n",
    "        attention_mask = batch['attention_mask'].to(device)\n",
    "        labels = batch['label'].to(device)\n",
    "\n",
    "        optimizer.zero_grad()\n",
    "        \n",
    "        outputs = model(input_ids, attention_mask=attention_mask, labels=labels)\n",
    "        loss = outputs.loss\n",
    "        loss.backward()\n",
    "\n",
    "        optimizer.step()\n",
    "\n",
    "        epoch_loss += loss.item()\n",
    "        losses.append(loss.item())  # Append the current loss to the list\n",
    "\n",
    "        progress_bar.set_postfix({'loss': epoch_loss / len(train_dataloader)})\n",
    "\n",
    "        \n",
    "    avg_epoch_loss = epoch_loss / len(train_dataloader)\n",
    "    print(f\"Epoch {epoch+1}/{num_epochs}, Avg. Loss: {avg_epoch_loss:.4f}\")\n",
    "    # Save the model\n",
    "    model.save_pretrained(\"model/epoch\" + str(epoch+1) + \"/\")\n",
    "\n",
    "    \n",
    "# Plot the loss curve\n",
    "plt.figure(figsize=(10, 6))\n",
    "plt.plot(losses, label='Training Loss')\n",
    "plt.xlabel('Iterations')\n",
    "plt.ylabel('Loss')\n",
    "plt.title('Training Loss')\n",
    "plt.legend()\n",
    "plt.grid(True)\n",
    "plt.show()\n",
    "\n",
    "# Save the modell\n",
    "model.save_pretrained(\"model/\")"
   ]
  },
  {
   "cell_type": "markdown",
   "metadata": {},
   "source": [
    "Test Accuracy"
   ]
  },
  {
   "cell_type": "code",
   "execution_count": 8,
   "metadata": {},
   "outputs": [
    {
     "name": "stdout",
     "output_type": "stream",
     "text": [
      "[45, 19, 61, 73, 109]\n",
      "Validation Accuracy: 0.7422428093584851\n"
     ]
    }
   ],
   "source": [
    "device = torch.device(\"cuda\" if torch.cuda.is_available() else \"cpu\")\n",
    "# Evaluation\n",
    "model.eval()\n",
    "total_correct = 0\n",
    "total_samples = 0\n",
    "\n",
    "# validation_texts = [\"Star Wars Epic Hero Series Darth Vader 4 Action Figure\", \"Nerf Elite 2.0 Commander RD-6 Blaster, 12 Official Nerf Darts, 6-Dart Rotating Drum, Built-In Customizing Capabilities\", \"Auto Drive Car Wash Microfiber Sponge, Chenille Pile & Scrubber Back, Blue, 1 piece\", \"VIKING Wheel Brush for Rims, Cleaning Brush for Tires, Tire Brush for Car, Grey, 10.3 inch x 3.3 inch x 3.8 Inch\"]\n",
    "# validation_labels = [1, 1, 0, 0]  # Example labels for validation, replace with your actual labels\n",
    "\n",
    "validation_dataset = MyDataset(validation_texts, validation_labels, tokenizer, max_length)\n",
    "validation_dataloader = DataLoader(validation_dataset, batch_size=8, shuffle=False)\n",
    "\n",
    "with torch.no_grad():\n",
    "    for batch in validation_dataloader:\n",
    "        input_ids = batch['input_ids'].to(device)\n",
    "        attention_mask = batch['attention_mask'].to(device)\n",
    "        labels = batch['label'].to(device)\n",
    "\n",
    "        outputs = model(input_ids, attention_mask=attention_mask)\n",
    "        logits = outputs.logits\n",
    "        predictions = torch.argmax(logits, dim=1)\n",
    "\n",
    "        total_correct += torch.sum(predictions == labels).item()\n",
    "        total_samples += len(labels)\n",
    "\n",
    "print(predictions.tolist())\n",
    "accuracy = total_correct / total_samples\n",
    "print(\"Validation Accuracy:\", accuracy)"
   ]
  }
 ],
 "metadata": {
  "kernelspec": {
   "display_name": "Python 3",
   "language": "python",
   "name": "python3"
  },
  "language_info": {
   "codemirror_mode": {
    "name": "ipython",
    "version": 3
   },
   "file_extension": ".py",
   "mimetype": "text/x-python",
   "name": "python",
   "nbconvert_exporter": "python",
   "pygments_lexer": "ipython3",
   "version": "3.8.10"
  }
 },
 "nbformat": 4,
 "nbformat_minor": 2
}
